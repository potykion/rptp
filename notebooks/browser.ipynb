{
 "cells": [
  {
   "cell_type": "code",
   "execution_count": 10,
   "metadata": {
    "collapsed": true
   },
   "outputs": [],
   "source": [
    "from selenium import webdriver\n",
    "import time\n",
    "from urllib.parse import urlencode"
   ]
  },
  {
   "cell_type": "code",
   "execution_count": 2,
   "metadata": {},
   "outputs": [],
   "source": [
    "driver = webdriver.Chrome()"
   ]
  },
  {
   "cell_type": "code",
   "execution_count": 9,
   "metadata": {},
   "outputs": [],
   "source": [
    "BASE_URL = 'https://vk.com/'\n",
    "FEED_URL = BASE_URL + 'feed'\n",
    "VIDEO_URL = BASE_URL + 'video'"
   ]
  },
  {
   "cell_type": "code",
   "execution_count": 8,
   "metadata": {},
   "outputs": [],
   "source": [
    "def login_to_vk(login, password):\n",
    "    driver.get(BASE_URL)\n",
    "    driver.find_element_by_id(\"index_email\").send_keys(login)\n",
    "    driver.find_element_by_id(\"index_pass\").send_keys(password)\n",
    "    driver.find_element_by_id('index_login_form').submit()\n",
    "    while driver.current_url != FEED_URL:\n",
    "        time.sleep(0.5)"
   ]
  },
  {
   "cell_type": "code",
   "execution_count": 5,
   "metadata": {},
   "outputs": [],
   "source": [
    "login = \"\"\n",
    "password = ''\n",
    "login_to_vk(login, password)"
   ]
  },
  {
   "cell_type": "code",
   "execution_count": 12,
   "metadata": {},
   "outputs": [
    {
     "data": {
      "text/plain": [
       "'https://vk.com/video?hd=1&q=op+op&len=2&order=0&notsafe=1'"
      ]
     },
     "execution_count": 12,
     "metadata": {},
     "output_type": "execute_result"
    }
   ],
   "source": [
    "# https://vk.com/video?hd=1&len=2&notsafe=1&order=0&q=Lika\n",
    "DEFAULT_SEARCH_PARAMS = {\n",
    "    'hd': 1,\n",
    "    'len': 2,\n",
    "    'notsafe': 1,\n",
    "    'order': 0,\n",
    "}\n",
    "\n",
    "def search_videos(search_query, **search_params):\n",
    "    params = DEFAULT_SEARCH_PARAMS.copy()\n",
    "    params.update(search_params)\n",
    "    params['q'] = search_query\n",
    "\n",
    "    url = '{}?{}'.format(VIDEO_URL, urlencode(params))\n",
    "    driver.get(url)"
   ]
  }
 ],
 "metadata": {
  "kernelspec": {
   "display_name": "Python 2",
   "language": "python",
   "name": "python2"
  },
  "language_info": {
   "codemirror_mode": {
    "name": "ipython",
    "version": 2.0
   },
   "file_extension": ".py",
   "mimetype": "text/x-python",
   "name": "python",
   "nbconvert_exporter": "python",
   "pygments_lexer": "ipython2",
   "version": "2.7.6"
  }
 },
 "nbformat": 4,
 "nbformat_minor": 0
}